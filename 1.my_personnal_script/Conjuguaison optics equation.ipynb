{
 "cells": [
  {
   "cell_type": "code",
   "execution_count": 3,
   "metadata": {},
   "outputs": [],
   "source": [
    "import sympy as sp\n",
    "import numpy as np\n",
    "import matplotlib.pyplot as plt"
   ]
  },
  {
   "cell_type": "code",
   "execution_count": 4,
   "metadata": {},
   "outputs": [],
   "source": [
    "oa, oa_,f_,x=sp.symbols(\" OA, OA', F', x\")\n",
    "theta_o,theta_i=sp.symbols(\"theta_o,theta_i\")\n"
   ]
  },
  {
   "cell_type": "code",
   "execution_count": 5,
   "metadata": {},
   "outputs": [
    {
     "data": {
      "text/latex": [
       "$\\displaystyle \\frac{1}{OA'} - \\frac{1}{OA} = \\frac{1}{F'}$"
      ],
      "text/plain": [
       "Eq(1/OA' - 1/OA, 1/F')"
      ]
     },
     "execution_count": 5,
     "metadata": {},
     "output_type": "execute_result"
    }
   ],
   "source": [
    "eq_conj=sp.Eq(1/oa_-1/oa,1/f_)\n",
    "eq_conj"
   ]
  },
  {
   "cell_type": "code",
   "execution_count": 6,
   "metadata": {},
   "outputs": [
    {
     "data": {
      "text/latex": [
       "$\\displaystyle OA' = \\frac{F' OA}{F' + OA}$"
      ],
      "text/plain": [
       "Eq(OA', F'*OA/(F' + OA))"
      ]
     },
     "execution_count": 6,
     "metadata": {},
     "output_type": "execute_result"
    }
   ],
   "source": [
    "eq_conj_oa_ = sp.Eq(oa_, sp.solve(eq_conj, oa_)[0])\n",
    "eq_conj_oa_"
   ]
  },
  {
   "cell_type": "code",
   "execution_count": 7,
   "metadata": {},
   "outputs": [
    {
     "data": {
      "text/latex": [
       "$\\displaystyle OA = \\frac{F' OA'}{F' - OA'}$"
      ],
      "text/plain": [
       "Eq(OA, F'*OA'/(F' - OA'))"
      ]
     },
     "execution_count": 7,
     "metadata": {},
     "output_type": "execute_result"
    }
   ],
   "source": [
    "eq_conj_oa = sp.Eq(oa, sp.solve(eq_conj, oa)[0])\n",
    "eq_conj_oa"
   ]
  },
  {
   "cell_type": "code",
   "execution_count": 8,
   "metadata": {},
   "outputs": [
    {
     "data": {
      "text/latex": [
       "$\\displaystyle F' = \\frac{OA OA'}{OA - OA'}$"
      ],
      "text/plain": [
       "Eq(F', OA*OA'/(OA - OA'))"
      ]
     },
     "execution_count": 8,
     "metadata": {},
     "output_type": "execute_result"
    }
   ],
   "source": [
    "eq_conj_f_ = sp.Eq(f_, sp.solve(eq_conj, f_)[0])\n",
    "eq_conj_f_"
   ]
  },
  {
   "cell_type": "markdown",
   "metadata": {},
   "source": [
    "Aperture equation"
   ]
  },
  {
   "cell_type": "code",
   "execution_count": 9,
   "metadata": {},
   "outputs": [
    {
     "data": {
      "text/latex": [
       "$\\displaystyle OA \\tan{\\left(\\theta_{o} \\right)} = OA' \\tan{\\left(\\theta_{i} \\right)}$"
      ],
      "text/plain": [
       "Eq(OA*tan(theta_o), OA'*tan(theta_i))"
      ]
     },
     "execution_count": 9,
     "metadata": {},
     "output_type": "execute_result"
    }
   ],
   "source": [
    "#eq_aperture=sp.Eq()\n",
    "eq_aperture=sp.Eq(oa*sp.tan(theta_o),oa_*sp.tan(theta_i))\n",
    "eq_aperture"
   ]
  },
  {
   "cell_type": "code",
   "execution_count": 15,
   "metadata": {},
   "outputs": [
    {
     "data": {
      "text/latex": [
       "$\\displaystyle \\theta_{i} = \\frac{F' OA'}{F' - OA'}$"
      ],
      "text/plain": [
       "Eq(theta_i, F'*OA'/(F' - OA'))"
      ]
     },
     "execution_count": 15,
     "metadata": {},
     "output_type": "execute_result"
    }
   ],
   "source": [
    "f_theta_i=sp.solve([eq_aperture,eq_conj],(theta_i,oa))[0][1]\n",
    "eq_theta_i = sp.Eq(theta_i,f_theta_i)\n",
    "eq_theta_i"
   ]
  },
  {
   "cell_type": "markdown",
   "metadata": {},
   "source": [
    "Chagement de variable pour centrer le éplacement autour de sa position exacte à 250 mm"
   ]
  },
  {
   "cell_type": "code",
   "execution_count": 11,
   "metadata": {},
   "outputs": [
    {
     "data": {
      "text/latex": [
       "$\\displaystyle \\theta_{i} = - \\operatorname{atan}{\\left(\\frac{F' \\tan{\\left(\\theta_{o} \\right)}}{x} \\right)}$"
      ],
      "text/plain": [
       "Eq(theta_i, -atan(F'*tan(theta_o)/x))"
      ]
     },
     "execution_count": 11,
     "metadata": {},
     "output_type": "execute_result"
    }
   ],
   "source": [
    "eq_theta_i = sp.Eq(theta_i,f_theta_i.subs({oa_:f_+x}))\n",
    "eq_theta_i"
   ]
  },
  {
   "cell_type": "markdown",
   "metadata": {},
   "source": [
    "Evalutation of theta"
   ]
  },
  {
   "cell_type": "code",
   "execution_count": 12,
   "metadata": {},
   "outputs": [
    {
     "data": {
      "text/latex": [
       "$\\displaystyle - \\operatorname{atan}{\\left(\\frac{0.7500022500081}{x} \\right)}$"
      ],
      "text/plain": [
       "-atan(0.7500022500081/x)"
      ]
     },
     "execution_count": 12,
     "metadata": {},
     "output_type": "execute_result"
    }
   ],
   "source": [
    "# Substitute given parameter values\n",
    "given_values = {\n",
    "    f_: 250,  # Example value for f_\n",
    "    theta_o: 0.003,  # Example value for oa_\n",
    "}\n",
    "\n",
    "x_n=np.linspace(-1,1,100)\n",
    "eq=f_theta_i.subs({oa_:f_+x}).subs(given_values)\n",
    "eq\n",
    "\n",
    "\n",
    "\n"
   ]
  },
  {
   "cell_type": "code",
   "execution_count": 13,
   "metadata": {},
   "outputs": [
    {
     "data": {
      "text/plain": [
       "<function matplotlib.pyplot.show(close=None, block=None)>"
      ]
     },
     "execution_count": 13,
     "metadata": {},
     "output_type": "execute_result"
    },
    {
     "data": {
      "image/png": "[encoded data removed]",
      "text/plain": [
       "<Figure size 640x480 with 1 Axes>"
      ]
     },
     "metadata": {},
     "output_type": "display_data"
    }
   ],
   "source": [
    " # Evaluate eq_theta_o with given parameter values\n",
    "theta_i_n=sp.lambdify([x],eq,\"numpy\")(x_n)\n",
    " plt.plot(x_n,theta_i_n)\n",
    " plt.ylabel('theta_i (rad)')\n",
    " plt.xlabel('x [mm]')\n",
    " plt.show\n"
   ]
  },
  {
   "cell_type": "code",
   "execution_count": 14,
   "metadata": {},
   "outputs": [
    {
     "ename": "SyntaxError",
     "evalue": "invalid syntax (2336016643.py, line 1)",
     "output_type": "error",
     "traceback": [
      "\u001b[1;36m  Cell \u001b[1;32mIn[14], line 1\u001b[1;36m\u001b[0m\n\u001b[1;33m    evaluated_eq_theta_i =\u001b[0m\n\u001b[1;37m                           ^\u001b[0m\n\u001b[1;31mSyntaxError\u001b[0m\u001b[1;31m:\u001b[0m invalid syntax\n"
     ]
    }
   ],
   "source": [
    "evaluated_eq_theta_i = "
   ]
  },
  {
   "cell_type": "code",
   "execution_count": null,
   "metadata": {},
   "outputs": [
    {
     "data": {
      "text/plain": [
       "False"
      ]
     },
     "execution_count": 105,
     "metadata": {},
     "output_type": "execute_result"
    }
   ],
   "source": [
    "evaluated_eq_theta_i(0.1,0.2,5)"
   ]
  },
  {
   "cell_type": "code",
   "execution_count": null,
   "metadata": {},
   "outputs": [
    {
     "data": {
      "image/png": "[encoded data removed]",
      "text/plain": [
       "<Figure size 640x480 with 1 Axes>"
      ]
     },
     "metadata": {},
     "output_type": "display_data"
    }
   ],
   "source": [
    "x=sp.symbols('x')\n",
    "x_n=np.linspace(0,10,100)\n",
    "sin_n=sp.lambdify([x],sp.sin(x),\"numpy\")(x_n)\n",
    "plt.plot(x_n,sin_n)\n",
    "plt.xlabel('x',fontsize=20)\n",
    "\n",
    "plt.show()\n"
   ]
  },
  {
   "cell_type": "code",
   "execution_count": null,
   "metadata": {},
   "outputs": [
    {
     "data": {
      "text/plain": [
       "<function _lambdifygenerated(x)>"
      ]
     },
     "execution_count": 129,
     "metadata": {},
     "output_type": "execute_result"
    }
   ],
   "source": [
    "sin_n=sp.lambdify([x],sp.sin(x),\"numpy\")\n",
    "sin_n"
   ]
  },
  {
   "cell_type": "code",
   "execution_count": null,
   "metadata": {},
   "outputs": [
    {
     "data": {
      "text/latex": [
       "$\\displaystyle f{\\left(x,2 \\right)}$"
      ],
      "text/plain": [
       "f(x, 2)"
      ]
     },
     "execution_count": 107,
     "metadata": {},
     "output_type": "execute_result"
    }
   ],
   "source": [
    "f=sp.symbols('f', cls=sp.Function)\n",
    "\n",
    "f=f(x,2)\n",
    "f"
   ]
  },
  {
   "cell_type": "code",
   "execution_count": null,
   "metadata": {},
   "outputs": [
    {
     "ename": "SyntaxError",
     "evalue": "invalid syntax (3259428715.py, line 1)",
     "output_type": "error",
     "traceback": [
      "\u001b[1;36m  Cell \u001b[1;32mIn[108], line 1\u001b[1;36m\u001b[0m\n\u001b[1;33m    a=plt.\u001b[0m\n\u001b[1;37m          ^\u001b[0m\n\u001b[1;31mSyntaxError\u001b[0m\u001b[1;31m:\u001b[0m invalid syntax\n"
     ]
    }
   ],
   "source": [
    "a=plt."
   ]
  }
 ],
 "metadata": {
  "kernelspec": {
   "display_name": "Python 3",
   "language": "python",
   "name": "python3"
  },
  "language_info": {
   "codemirror_mode": {
    "name": "ipython",
    "version": 3
   },
   "file_extension": ".py",
   "mimetype": "text/x-python",
   "name": "python",
   "nbconvert_exporter": "python",
   "pygments_lexer": "ipython3",
   "version": "3.10.2"
  }
 },
 "nbformat": 4,
 "nbformat_minor": 2
}
